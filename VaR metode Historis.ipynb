{
 "cells": [
  {
   "cell_type": "markdown",
   "id": "d8e01d8b",
   "metadata": {},
   "source": [
    "## Analisis Value at Risk metode Historis pada 5 Saham Big Banks di Pasar Modal Indonesia\n",
    "\n",
    "1. Bank Central Asia, Tbk. (BBCA)\n",
    "2. Bank Rakyat Indonesia, Tbk. (BBRI)\n",
    "3. Bank Mandiri, Tbk. (BMRI)\n",
    "3. Bank Negara Indonesia, Tbk. (BBNI)"
   ]
  },
  {
   "cell_type": "code",
   "execution_count": 32,
   "id": "32faaa28",
   "metadata": {},
   "outputs": [],
   "source": [
    "import numpy as np\n",
    "import pandas as pd\n",
    "import datetime as dt\n",
    "import matplotlib.pyplot as plt\n",
    "from scipy.stats import norm\n",
    "\n",
    "%matplotlib inline"
   ]
  },
  {
   "cell_type": "code",
   "execution_count": 33,
   "id": "1db269d8",
   "metadata": {},
   "outputs": [
    {
     "data": {
      "text/html": [
       "<div>\n",
       "<style scoped>\n",
       "    .dataframe tbody tr th:only-of-type {\n",
       "        vertical-align: middle;\n",
       "    }\n",
       "\n",
       "    .dataframe tbody tr th {\n",
       "        vertical-align: top;\n",
       "    }\n",
       "\n",
       "    .dataframe thead th {\n",
       "        text-align: right;\n",
       "    }\n",
       "</style>\n",
       "<table border=\"1\" class=\"dataframe\">\n",
       "  <thead>\n",
       "    <tr style=\"text-align: right;\">\n",
       "      <th></th>\n",
       "      <th>Date</th>\n",
       "      <th>BBCA</th>\n",
       "      <th>BBRI</th>\n",
       "      <th>BMRI</th>\n",
       "      <th>BBNI</th>\n",
       "    </tr>\n",
       "  </thead>\n",
       "  <tbody>\n",
       "    <tr>\n",
       "      <th>0</th>\n",
       "      <td>23/2/2024</td>\n",
       "      <td>9825</td>\n",
       "      <td>6125</td>\n",
       "      <td>7050</td>\n",
       "      <td>5900</td>\n",
       "    </tr>\n",
       "    <tr>\n",
       "      <th>1</th>\n",
       "      <td>22/2/2024</td>\n",
       "      <td>9875</td>\n",
       "      <td>6250</td>\n",
       "      <td>7100</td>\n",
       "      <td>5950</td>\n",
       "    </tr>\n",
       "    <tr>\n",
       "      <th>2</th>\n",
       "      <td>21/2/2024</td>\n",
       "      <td>9975</td>\n",
       "      <td>6300</td>\n",
       "      <td>7250</td>\n",
       "      <td>6000</td>\n",
       "    </tr>\n",
       "    <tr>\n",
       "      <th>3</th>\n",
       "      <td>20/2/2024</td>\n",
       "      <td>10025</td>\n",
       "      <td>6300</td>\n",
       "      <td>7150</td>\n",
       "      <td>6025</td>\n",
       "    </tr>\n",
       "    <tr>\n",
       "      <th>4</th>\n",
       "      <td>19/2/2024</td>\n",
       "      <td>9875</td>\n",
       "      <td>6100</td>\n",
       "      <td>7150</td>\n",
       "      <td>5875</td>\n",
       "    </tr>\n",
       "  </tbody>\n",
       "</table>\n",
       "</div>"
      ],
      "text/plain": [
       "        Date   BBCA  BBRI  BMRI  BBNI\n",
       "0  23/2/2024   9825  6125  7050  5900\n",
       "1  22/2/2024   9875  6250  7100  5950\n",
       "2  21/2/2024   9975  6300  7250  6000\n",
       "3  20/2/2024  10025  6300  7150  6025\n",
       "4  19/2/2024   9875  6100  7150  5875"
      ]
     },
     "execution_count": 33,
     "metadata": {},
     "output_type": "execute_result"
    }
   ],
   "source": [
    "df = pd.read_csv('5 Big Banks in Indonesia.csv')\n",
    "df.head()"
   ]
  },
  {
   "cell_type": "code",
   "execution_count": 34,
   "id": "6f3ca467",
   "metadata": {},
   "outputs": [
    {
     "name": "stdout",
     "output_type": "stream",
     "text": [
      "<class 'pandas.core.frame.DataFrame'>\n",
      "RangeIndex: 2200 entries, 0 to 2199\n",
      "Data columns (total 5 columns):\n",
      " #   Column  Non-Null Count  Dtype \n",
      "---  ------  --------------  ----- \n",
      " 0   Date    2200 non-null   object\n",
      " 1   BBCA    2200 non-null   int64 \n",
      " 2   BBRI    2200 non-null   int64 \n",
      " 3   BMRI    2200 non-null   int64 \n",
      " 4   BBNI    2200 non-null   int64 \n",
      "dtypes: int64(4), object(1)\n",
      "memory usage: 86.1+ KB\n"
     ]
    }
   ],
   "source": [
    "df.info()"
   ]
  },
  {
   "cell_type": "code",
   "execution_count": 36,
   "id": "7922a04f",
   "metadata": {
    "scrolled": true
   },
   "outputs": [
    {
     "data": {
      "text/html": [
       "<div>\n",
       "<style scoped>\n",
       "    .dataframe tbody tr th:only-of-type {\n",
       "        vertical-align: middle;\n",
       "    }\n",
       "\n",
       "    .dataframe tbody tr th {\n",
       "        vertical-align: top;\n",
       "    }\n",
       "\n",
       "    .dataframe thead th {\n",
       "        text-align: right;\n",
       "    }\n",
       "</style>\n",
       "<table border=\"1\" class=\"dataframe\">\n",
       "  <thead>\n",
       "    <tr style=\"text-align: right;\">\n",
       "      <th></th>\n",
       "      <th>Date</th>\n",
       "      <th>BBCA</th>\n",
       "      <th>BBRI</th>\n",
       "      <th>BMRI</th>\n",
       "      <th>BBNI</th>\n",
       "    </tr>\n",
       "  </thead>\n",
       "  <tbody>\n",
       "    <tr>\n",
       "      <th>0</th>\n",
       "      <td>2024-02-23</td>\n",
       "      <td>9825</td>\n",
       "      <td>6125</td>\n",
       "      <td>7050</td>\n",
       "      <td>5900</td>\n",
       "    </tr>\n",
       "    <tr>\n",
       "      <th>1</th>\n",
       "      <td>2024-02-22</td>\n",
       "      <td>9875</td>\n",
       "      <td>6250</td>\n",
       "      <td>7100</td>\n",
       "      <td>5950</td>\n",
       "    </tr>\n",
       "    <tr>\n",
       "      <th>2</th>\n",
       "      <td>2024-02-21</td>\n",
       "      <td>9975</td>\n",
       "      <td>6300</td>\n",
       "      <td>7250</td>\n",
       "      <td>6000</td>\n",
       "    </tr>\n",
       "    <tr>\n",
       "      <th>3</th>\n",
       "      <td>2024-02-20</td>\n",
       "      <td>10025</td>\n",
       "      <td>6300</td>\n",
       "      <td>7150</td>\n",
       "      <td>6025</td>\n",
       "    </tr>\n",
       "    <tr>\n",
       "      <th>4</th>\n",
       "      <td>2024-02-19</td>\n",
       "      <td>9875</td>\n",
       "      <td>6100</td>\n",
       "      <td>7150</td>\n",
       "      <td>5875</td>\n",
       "    </tr>\n",
       "  </tbody>\n",
       "</table>\n",
       "</div>"
      ],
      "text/plain": [
       "        Date   BBCA  BBRI  BMRI  BBNI\n",
       "0 2024-02-23   9825  6125  7050  5900\n",
       "1 2024-02-22   9875  6250  7100  5950\n",
       "2 2024-02-21   9975  6300  7250  6000\n",
       "3 2024-02-20  10025  6300  7150  6025\n",
       "4 2024-02-19   9875  6100  7150  5875"
      ]
     },
     "execution_count": 36,
     "metadata": {},
     "output_type": "execute_result"
    }
   ],
   "source": [
    "# Ubah kolom 'Date' menjadi tipe data datetime\n",
    "df['Date'] = pd.to_datetime(df['Date'])\n",
    "df.head()"
   ]
  },
  {
   "cell_type": "markdown",
   "id": "5334fabf",
   "metadata": {},
   "source": [
    "### Mencari nilai Return harian masing-masing saham"
   ]
  },
  {
   "cell_type": "code",
   "execution_count": 41,
   "id": "99732e4d",
   "metadata": {
    "scrolled": true
   },
   "outputs": [
    {
     "name": "stdout",
     "output_type": "stream",
     "text": [
      "          BBCA      BBRI      BMRI      BBNI\n",
      "1     0.005076  0.020203  0.007067  0.008439\n",
      "2     0.010076  0.007968  0.020907  0.008368\n",
      "3     0.005000  0.000000 -0.013889  0.004158\n",
      "4    -0.015076 -0.032261  0.000000 -0.025211\n",
      "5     0.007566  0.008163  0.006969  0.021053\n",
      "...        ...       ...       ...       ...\n",
      "2195 -0.010850 -0.004283 -0.010292  0.011834\n",
      "2196  0.003630  0.000000  0.006873  0.008785\n",
      "2197 -0.007273  0.000000 -0.031307 -0.029588\n",
      "2198  0.000000  0.004283 -0.007092 -0.033591\n",
      "2199  0.014493  0.004264  0.007092  0.009274\n",
      "\n",
      "[2199 rows x 4 columns]\n"
     ]
    }
   ],
   "source": [
    "import pandas as pd\n",
    "import numpy as np\n",
    "\n",
    "# Melakukan perhitungan log return untuk setiap saham\n",
    "log_returns = np.log(df.iloc[:, 1:] / df.iloc[:, 1:].shift(1))\n",
    "\n",
    "# Menghapus baris yang memiliki nilai NaN (biasanya baris pertama karena perhitungan menggunakan shift)\n",
    "log_returns = log_returns.dropna()\n",
    "\n",
    "# Tambahkan kolom date\n",
    "log_returns['Date'] = df['Date'][0:].reset_index(drop=True)\n",
    "log_returns = log_returns[['BBCA', 'BBRI', 'BMRI', 'BBNI']]\n",
    "\n",
    "# Mencetak log return\n",
    "print(log_returns)"
   ]
  },
  {
   "cell_type": "markdown",
   "id": "1e78757f",
   "metadata": {},
   "source": [
    "### Membuat Portofolio dengan bobot sama, yaitu sebesar 25% dari modal"
   ]
  },
  {
   "cell_type": "code",
   "execution_count": 42,
   "id": "a0a71abc",
   "metadata": {},
   "outputs": [
    {
     "name": "stdout",
     "output_type": "stream",
     "text": [
      "[0.25 0.25 0.25 0.25]\n"
     ]
    }
   ],
   "source": [
    "portfolio_value = 100000000 # Rp 100 juta\n",
    "weights = np.array([1/4]*4)\n",
    "print(weights)"
   ]
  },
  {
   "cell_type": "markdown",
   "id": "317a3ebf",
   "metadata": {},
   "source": [
    "### Menghitung return dari Portofolio yang telah dibuat"
   ]
  },
  {
   "cell_type": "code",
   "execution_count": 44,
   "id": "b839d90a",
   "metadata": {},
   "outputs": [
    {
     "name": "stdout",
     "output_type": "stream",
     "text": [
      "1       0.010196\n",
      "2       0.011830\n",
      "3      -0.001183\n",
      "4      -0.018137\n",
      "5       0.010938\n",
      "          ...   \n",
      "2195   -0.003397\n",
      "2196    0.004822\n",
      "2197   -0.017042\n",
      "2198   -0.009100\n",
      "2199    0.008781\n",
      "Length: 2199, dtype: float64\n"
     ]
    }
   ],
   "source": [
    "historical_returns = (log_returns * weights).sum(axis =1)\n",
    "print(historical_returns)"
   ]
  },
  {
   "cell_type": "markdown",
   "id": "a76c0fb1",
   "metadata": {},
   "source": [
    "### Rata-rata return dari Portofolio menyimpan saham selama 20 hari"
   ]
  },
  {
   "cell_type": "code",
   "execution_count": 46,
   "id": "086aa8b2",
   "metadata": {},
   "outputs": [
    {
     "name": "stdout",
     "output_type": "stream",
     "text": [
      "20     -0.065060\n",
      "21     -0.066772\n",
      "22     -0.077695\n",
      "23     -0.075119\n",
      "24     -0.053967\n",
      "          ...   \n",
      "2195   -0.034855\n",
      "2196   -0.037495\n",
      "2197   -0.048948\n",
      "2198   -0.073348\n",
      "2199   -0.049399\n",
      "Length: 2180, dtype: float64\n"
     ]
    }
   ],
   "source": [
    "days = 20\n",
    "\n",
    "range_returns = historical_returns.rolling(window = days).sum()\n",
    "range_returns = range_returns.dropna()\n",
    "print(range_returns)"
   ]
  },
  {
   "cell_type": "markdown",
   "id": "c037e286",
   "metadata": {},
   "source": [
    "### Menerapkan analisis Value at Risk metode Historis dengan tingkat kepercayaan 90%, 95%, dan 99% periode 20 hari"
   ]
  },
  {
   "cell_type": "markdown",
   "id": "afe4774f",
   "metadata": {},
   "source": [
    "#### tingkat kepercayaan 90%"
   ]
  },
  {
   "cell_type": "code",
   "execution_count": 52,
   "id": "84c7b1fa",
   "metadata": {},
   "outputs": [
    {
     "name": "stdout",
     "output_type": "stream",
     "text": [
      "7677455.236267088\n"
     ]
    }
   ],
   "source": [
    "confidence_interval = 0.90\n",
    "\n",
    "VaR_90 = -np.percentile(range_returns, 100 - (confidence_interval * 100))*portfolio_value\n",
    "print(VaR_90)"
   ]
  },
  {
   "cell_type": "markdown",
   "id": "6d4ccf35",
   "metadata": {},
   "source": [
    "#### tingkat kepercayaan 95%"
   ]
  },
  {
   "cell_type": "code",
   "execution_count": 53,
   "id": "06ea2cea",
   "metadata": {},
   "outputs": [
    {
     "name": "stdout",
     "output_type": "stream",
     "text": [
      "10474529.234457104\n"
     ]
    }
   ],
   "source": [
    "confidence_interval = 0.95\n",
    "\n",
    "VaR_95 = -np.percentile(range_returns, 100 - (confidence_interval * 100))*portfolio_value\n",
    "print(VaR_95)"
   ]
  },
  {
   "cell_type": "markdown",
   "id": "e202c5f1",
   "metadata": {},
   "source": [
    "#### tingkat kepercayaan 99%"
   ]
  },
  {
   "cell_type": "code",
   "execution_count": 54,
   "id": "d6abedd1",
   "metadata": {},
   "outputs": [
    {
     "name": "stdout",
     "output_type": "stream",
     "text": [
      "18752323.61617184\n"
     ]
    }
   ],
   "source": [
    "confidence_interval = 0.99\n",
    "\n",
    "VaR_99 = -np.percentile(range_returns, 100 - (confidence_interval * 100))*portfolio_value\n",
    "print(VaR_99)"
   ]
  },
  {
   "cell_type": "code",
   "execution_count": 59,
   "id": "0e4e7d95",
   "metadata": {},
   "outputs": [
    {
     "name": "stdout",
     "output_type": "stream",
     "text": [
      "Ringkasan:\n",
      "\n",
      "-----------------------------------------------------------\n",
      "Nilai VaR untuk Tingkat Kepercayaan 90%: 7677455.236267088\n",
      "-----------------------------------------------------------\n",
      "Nilai VaR untuk Tingkat Kepercayaan 95%: 10474529.234457104\n",
      "-----------------------------------------------------------\n",
      "Nilai VaR untuk Tingkat Kepercayaan 99%: 18752323.61617184\n",
      "-----------------------------------------------------------\n"
     ]
    }
   ],
   "source": [
    "print('Ringkasan:')\n",
    "print('')\n",
    "print('-----------------------------------------------------------')\n",
    "print('Nilai VaR untuk Tingkat Kepercayaan 90%: {}'.format(VaR_90))\n",
    "print('-----------------------------------------------------------')\n",
    "print('Nilai VaR untuk Tingkat Kepercayaan 95%: {}'.format(VaR_95))\n",
    "print('-----------------------------------------------------------')\n",
    "print('Nilai VaR untuk Tingkat Kepercayaan 99%: {}'.format(VaR_99))\n",
    "print('-----------------------------------------------------------')"
   ]
  },
  {
   "cell_type": "markdown",
   "id": "b29ff0b0",
   "metadata": {},
   "source": [
    "Nilai VaR adalah ukuran risiko yang mengindikasikan kerugian maksimum yang diharapkan pada suatu investasi atau portofolio pada suatu interval kepercayaan tertentu. Dalam kasus ini, kita menggunakan interval kepercayaan 90%, 95%, dan 99%.\n",
    "\n",
    "1. Untuk interval kepercayaan 90%, nilai VaR adalah sekitar 7.68 juta. Ini berarti dengan tingkat kepercayaan 90%, kerugian maksimum yang diharapkan dalam 20 hari adalah sekitar 7.68 juta.\n",
    "2. Untuk interval kepercayaan 95%, nilai VaR adalah sekitar 10.47 juta. Ini berarti dengan tingkat kepercayaan 95%, kerugian maksimum yang diharapkan dalam 20 hari adalah sekitar 10.47 juta.\n",
    "3. Untuk interval kepercayaan 99%, nilai VaR adalah sekitar 18.75 juta. Ini berarti dengan tingkat kepercayaan 99%, kerugian maksimum yang diharapkan dalam 20 hari adalah sekitar 18.75 juta.\n",
    "\n",
    "Data rata-rata return portofolio selama 20 hari telah digunakan untuk menghitung nilai-nilai VaR tersebut. "
   ]
  },
  {
   "cell_type": "code",
   "execution_count": 60,
   "id": "e4ef1a11",
   "metadata": {},
   "outputs": [
    {
     "data": {
      "image/png": "[encoded data removed]",
      "text/plain": [
       "<Figure size 640x480 with 1 Axes>"
      ]
     },
     "metadata": {},
     "output_type": "display_data"
    }
   ],
   "source": [
    "import seaborn as sns\n",
    "import matplotlib.pyplot as plt\n",
    "\n",
    "return_window = days\n",
    "range_returns = historical_returns.rolling(window=return_window).sum()\n",
    "range_returns = range_returns.dropna()\n",
    "\n",
    "range_returns_juta = range_returns * portfolio_value\n",
    "\n",
    "sns.histplot(range_returns_juta.dropna(), bins=50, kde=True, stat='density')\n",
    "plt.xlabel(f'{return_window}-Return Portofolio Harian (Juta)')\n",
    "plt.ylabel('Density')\n",
    "plt.title(f'Distribusi Return Portofolio {return_window} Hari (Juta)')\n",
    "plt.axvline(-VaR, color='r', linestyle='dashed', linewidth=2, label=f'VaR at {confidence_interval:.0%} confidence level')\n",
    "plt.legend()\n",
    "plt.show()"
   ]
  }
 ],
 "metadata": {
  "kernelspec": {
   "display_name": "Python 3 (ipykernel)",
   "language": "python",
   "name": "python3"
  },
  "language_info": {
   "codemirror_mode": {
    "name": "ipython",
    "version": 3
   },
   "file_extension": ".py",
   "mimetype": "text/x-python",
   "name": "python",
   "nbconvert_exporter": "python",
   "pygments_lexer": "ipython3",
   "version": "3.9.13"
  }
 },
 "nbformat": 4,
 "nbformat_minor": 5
}
